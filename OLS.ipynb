{
 "cells": [
  {
   "cell_type": "code",
   "execution_count": 1,
   "metadata": {},
   "outputs": [
    {
     "name": "stderr",
     "output_type": "stream",
     "text": [
      "/Users/juanjaramillo/anaconda3/lib/python3.6/site-packages/statsmodels/compat/pandas.py:56: FutureWarning: The pandas.core.datetools module is deprecated and will be removed in a future version. Please use the pandas.tseries module instead.\n",
      "  from pandas.core import datetools\n"
     ]
    }
   ],
   "source": [
    "%matplotlib inline\n",
    "\n",
    "from __future__ import print_function\n",
    "from statsmodels.compat import lzip\n",
    "import numpy as np\n",
    "import pandas as pd\n",
    "import matplotlib.pyplot as plt\n",
    "import statsmodels.api as sm\n",
    "from statsmodels.formula.api import ols"
   ]
  },
  {
   "cell_type": "code",
   "execution_count": 2,
   "metadata": {},
   "outputs": [],
   "source": [
    "beef = pd.read_csv('./ML/beef.csv')"
   ]
  },
  {
   "cell_type": "code",
   "execution_count": 3,
   "metadata": {},
   "outputs": [
    {
     "data": {
      "text/html": [
       "<div>\n",
       "<style scoped>\n",
       "    .dataframe tbody tr th:only-of-type {\n",
       "        vertical-align: middle;\n",
       "    }\n",
       "\n",
       "    .dataframe tbody tr th {\n",
       "        vertical-align: top;\n",
       "    }\n",
       "\n",
       "    .dataframe thead th {\n",
       "        text-align: right;\n",
       "    }\n",
       "</style>\n",
       "<table border=\"1\" class=\"dataframe\">\n",
       "  <thead>\n",
       "    <tr style=\"text-align: right;\">\n",
       "      <th></th>\n",
       "      <th>Year</th>\n",
       "      <th>Quarter</th>\n",
       "      <th>Quantity</th>\n",
       "      <th>Price</th>\n",
       "    </tr>\n",
       "  </thead>\n",
       "  <tbody>\n",
       "    <tr>\n",
       "      <th>0</th>\n",
       "      <td>1977</td>\n",
       "      <td>1</td>\n",
       "      <td>22.9976</td>\n",
       "      <td>142.1667</td>\n",
       "    </tr>\n",
       "    <tr>\n",
       "      <th>1</th>\n",
       "      <td>1977</td>\n",
       "      <td>2</td>\n",
       "      <td>22.6131</td>\n",
       "      <td>143.9333</td>\n",
       "    </tr>\n",
       "    <tr>\n",
       "      <th>2</th>\n",
       "      <td>1977</td>\n",
       "      <td>3</td>\n",
       "      <td>23.4054</td>\n",
       "      <td>146.5000</td>\n",
       "    </tr>\n",
       "    <tr>\n",
       "      <th>3</th>\n",
       "      <td>1977</td>\n",
       "      <td>4</td>\n",
       "      <td>22.7401</td>\n",
       "      <td>150.8000</td>\n",
       "    </tr>\n",
       "    <tr>\n",
       "      <th>4</th>\n",
       "      <td>1978</td>\n",
       "      <td>1</td>\n",
       "      <td>22.0441</td>\n",
       "      <td>160.0000</td>\n",
       "    </tr>\n",
       "    <tr>\n",
       "      <th>5</th>\n",
       "      <td>1978</td>\n",
       "      <td>2</td>\n",
       "      <td>21.7602</td>\n",
       "      <td>182.5333</td>\n",
       "    </tr>\n",
       "    <tr>\n",
       "      <th>6</th>\n",
       "      <td>1978</td>\n",
       "      <td>3</td>\n",
       "      <td>21.6064</td>\n",
       "      <td>186.2000</td>\n",
       "    </tr>\n",
       "    <tr>\n",
       "      <th>7</th>\n",
       "      <td>1978</td>\n",
       "      <td>4</td>\n",
       "      <td>21.8814</td>\n",
       "      <td>186.4333</td>\n",
       "    </tr>\n",
       "    <tr>\n",
       "      <th>8</th>\n",
       "      <td>1979</td>\n",
       "      <td>1</td>\n",
       "      <td>20.5086</td>\n",
       "      <td>211.7000</td>\n",
       "    </tr>\n",
       "    <tr>\n",
       "      <th>9</th>\n",
       "      <td>1979</td>\n",
       "      <td>2</td>\n",
       "      <td>19.0408</td>\n",
       "      <td>231.5000</td>\n",
       "    </tr>\n",
       "  </tbody>\n",
       "</table>\n",
       "</div>"
      ],
      "text/plain": [
       "   Year  Quarter  Quantity     Price\n",
       "0  1977        1   22.9976  142.1667\n",
       "1  1977        2   22.6131  143.9333\n",
       "2  1977        3   23.4054  146.5000\n",
       "3  1977        4   22.7401  150.8000\n",
       "4  1978        1   22.0441  160.0000\n",
       "5  1978        2   21.7602  182.5333\n",
       "6  1978        3   21.6064  186.2000\n",
       "7  1978        4   21.8814  186.4333\n",
       "8  1979        1   20.5086  211.7000\n",
       "9  1979        2   19.0408  231.5000"
      ]
     },
     "execution_count": 3,
     "metadata": {},
     "output_type": "execute_result"
    }
   ],
   "source": [
    "beef.head(10)"
   ]
  },
  {
   "cell_type": "code",
   "execution_count": 4,
   "metadata": {},
   "outputs": [
    {
     "data": {
      "text/plain": [
       "Year        0\n",
       "Quarter     0\n",
       "Quantity    0\n",
       "Price       0\n",
       "dtype: int64"
      ]
     },
     "execution_count": 4,
     "metadata": {},
     "output_type": "execute_result"
    }
   ],
   "source": [
    "beef.isnull().sum()"
   ]
  },
  {
   "cell_type": "markdown",
   "metadata": {},
   "source": [
    "## Regression Analysis\n",
    "\n",
    "### Ordinary Least Squares (OLS) Estimation"
   ]
  },
  {
   "cell_type": "code",
   "execution_count": 5,
   "metadata": {},
   "outputs": [],
   "source": [
    "beef_model = ols(\"Quantity ~ Price\", data=beef).fit()"
   ]
  },
  {
   "cell_type": "code",
   "execution_count": 6,
   "metadata": {},
   "outputs": [
    {
     "name": "stdout",
     "output_type": "stream",
     "text": [
      "                            OLS Regression Results                            \n",
      "==============================================================================\n",
      "Dep. Variable:               Quantity   R-squared:                       0.901\n",
      "Model:                            OLS   Adj. R-squared:                  0.900\n",
      "Method:                 Least Squares   F-statistic:                     811.2\n",
      "Date:                Sat, 12 Jan 2019   Prob (F-statistic):           1.69e-46\n",
      "Time:                        23:14:06   Log-Likelihood:                -77.493\n",
      "No. Observations:                  91   AIC:                             159.0\n",
      "Df Residuals:                      89   BIC:                             164.0\n",
      "Df Model:                           1                                         \n",
      "Covariance Type:            nonrobust                                         \n",
      "==============================================================================\n",
      "                 coef    std err          t      P>|t|      [0.025      0.975]\n",
      "------------------------------------------------------------------------------\n",
      "Intercept     30.0515      0.413     72.701      0.000      29.230      30.873\n",
      "Price         -0.0465      0.002    -28.482      0.000      -0.050      -0.043\n",
      "==============================================================================\n",
      "Omnibus:                        3.453   Durbin-Watson:                   1.533\n",
      "Prob(Omnibus):                  0.178   Jarque-Bera (JB):                2.460\n",
      "Skew:                           0.237   Prob(JB):                        0.292\n",
      "Kurtosis:                       2.349   Cond. No.                     1.74e+03\n",
      "==============================================================================\n",
      "\n",
      "Warnings:\n",
      "[1] Standard Errors assume that the covariance matrix of the errors is correctly specified.\n",
      "[2] The condition number is large, 1.74e+03. This might indicate that there are\n",
      "strong multicollinearity or other numerical problems.\n"
     ]
    }
   ],
   "source": [
    "print(beef_model.summary())"
   ]
  },
  {
   "cell_type": "markdown",
   "metadata": {},
   "source": [
    "The small P values indicate that we can reject the null hypothesis that Price has no effect on Quantity.\n",
    "\n",
    "Hight r squared indicates that our model explains a lot of the response variability.\n",
    "\n",
    "In regression analysis, we'd like our regression model to have significant variables and to produce a high R-squared value.\n",
    "\n",
    "We will show graphs to help interpret regression analysis results more intuitively."
   ]
  },
  {
   "cell_type": "code",
   "execution_count": 7,
   "metadata": {},
   "outputs": [
    {
     "data": {
      "image/png": "[encoded data removed]",
      "text/plain": [
       "<matplotlib.figure.Figure at 0x1175da748>"
      ]
     },
     "metadata": {},
     "output_type": "display_data"
    }
   ],
   "source": [
    "fig = plt.figure(figsize=(12,8))\n",
    "fig = sm.graphics.plot_partregress_grid(beef_model, fig=fig)"
   ]
  },
  {
   "cell_type": "code",
   "execution_count": null,
   "metadata": {},
   "outputs": [],
   "source": []
  }
 ],
 "metadata": {
  "kernelspec": {
   "display_name": "Python 3",
   "language": "python",
   "name": "python3"
  },
  "language_info": {
   "codemirror_mode": {
    "name": "ipython",
    "version": 3
   },
   "file_extension": ".py",
   "mimetype": "text/x-python",
   "name": "python",
   "nbconvert_exporter": "python",
   "pygments_lexer": "ipython3",
   "version": "3.6.4"
  }
 },
 "nbformat": 4,
 "nbformat_minor": 2
}
